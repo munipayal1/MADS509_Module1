{
 "cells": [
  {
   "cell_type": "markdown",
   "metadata": {
    "id": "95952cac"
   },
   "source": [
    "# ADS 509 Module 1: APIs and Web Scraping\n",
    "\n",
    "This notebook has three parts. In the first part you will pull data from the Twitter API. In the second, you will scrape lyrics from AZLyrics.com. In the last part, you'll run code that verifies the completeness of your data pull. \n",
    "\n",
    "For this assignment you have chosen two musical artists who have at least 100,000 Twitter followers and 20 songs with lyrics on AZLyrics.com. In this part of the assignment we pull the some of the user information for the followers of your artist and store them in text files. \n"
   ]
  },
  {
   "cell_type": "markdown",
   "metadata": {
    "id": "4ce62b2b"
   },
   "source": [
    "## Important Note\n",
    "\n",
    "This assignment requires you to have a version of Tweepy that is at least version 4. The latest version is 4.10 as I write this. Critically, this version of Tweepy is *not* on the upgrade path from Version 3, so you will not be able to simply upgrade the package if you are on Version 3. Instead you will need to explicitly install version 4, which you can do with a command like this: `pip install \"tweepy>=4\"`. You will also be using Version 2 of the Twitter API for this assignment. \n",
    "\n",
    "Run the below cell. If your version of Tweepy begins with a \"4\", then you should be good to go. If it begins with a \"3\" then run the following command, found [here](https://stackoverflow.com/questions/5226311/installing-specific-package-version-with-pip), at the command line or in a cell: `pip install -Iv tweepy==4.9`. (You may want to update that version number if Tweepy has moved on past 4.9. "
   ]
  },
  {
   "cell_type": "code",
   "execution_count": null,
   "metadata": {
    "colab": {
     "base_uri": "https://localhost:8080/",
     "height": 1000
    },
    "id": "Nn0MpRe5b-Ct",
    "outputId": "05d1bed2-b6ba-4d91-f840-111e4ddbca93"
   },
   "outputs": [],
   "source": [
    "#pip install -Iv tweepy==4.9"
   ]
  },
  {
   "cell_type": "code",
   "execution_count": null,
   "metadata": {
    "colab": {
     "base_uri": "https://localhost:8080/"
    },
    "id": "23cf2158",
    "outputId": "0723e6d3-d1d2-4810-9997-6285f52315f9"
   },
   "outputs": [],
   "source": [
    "pip show tweepy"
   ]
  },
  {
   "cell_type": "markdown",
   "metadata": {
    "id": "069b7ae8"
   },
   "source": [
    "## General Assignment Instructions\n",
    "\n",
    "These instructions are included in every assignment, to remind you of the coding standards for the class. Feel free to delete this cell after reading it. \n",
    "\n",
    "One sign of mature code is conforming to a style guide. We recommend the [Google Python Style Guide](https://google.github.io/styleguide/pyguide.html). If you use a different style guide, please include a cell with a link. \n",
    "\n",
    "Your code should be relatively easy-to-read, sensibly commented, and clean. Writing code is a messy process, so please be sure to edit your final submission. Remove any cells that are not needed or parts of cells that contain unnecessary code. Remove inessential `import` statements and make sure that all such statements are moved into the designated cell. \n",
    "\n",
    "Make use of non-code cells for written commentary. These cells should be grammatical and clearly written. In some of these cells you will have questions to answer. The questions will be marked by a \"Q:\" and will have a corresponding \"A:\" spot for you. *Make sure to answer every question marked with a `Q:` for full credit.* \n"
   ]
  },
  {
   "cell_type": "markdown",
   "metadata": {
    "id": "91c8969e"
   },
   "source": [
    "# Twitter API Pull"
   ]
  },
  {
   "cell_type": "code",
   "execution_count": 2,
   "metadata": {
    "id": "185076b0"
   },
   "outputs": [],
   "source": [
    "# for the twitter section\n",
    "import tweepy\n",
    "import os\n",
    "import datetime\n",
    "import re\n",
    "from pprint import pprint\n",
    "\n",
    "# for the lyrics scrape section\n",
    "import requests\n",
    "import time\n",
    "from bs4 import BeautifulSoup\n",
    "from collections import defaultdict, Counter\n"
   ]
  },
  {
   "cell_type": "code",
   "execution_count": 3,
   "metadata": {
    "id": "a47e2d5f"
   },
   "outputs": [],
   "source": [
    "# Use this cell for any import statements you add\n",
    "import random\n",
    "import pandas as pd\n",
    "import shutil\n",
    "from urllib.request import urlopen"
   ]
  },
  {
   "cell_type": "code",
   "execution_count": null,
   "metadata": {
    "colab": {
     "base_uri": "https://localhost:8080/",
     "height": 36
    },
    "id": "Zunpx5soiZXd",
    "outputId": "90fb0637-de9e-49b0-ef13-aafd58aad5b3"
   },
   "outputs": [],
   "source": [
    "#checking the version here, since I received an error message from using the \n",
    "#client function earlier (see line 7).\n",
    "#For some reason, tweepy was using the 3. version despite the pip install,\n",
    "#so this is here as a check\n",
    "tweepy.__version__"
   ]
  },
  {
   "cell_type": "markdown",
   "metadata": {
    "id": "c21c86ec"
   },
   "source": [
    "We need bring in our API keys. Since API keys should be kept secret, we'll keep them in a file called `api_keys.py`. This file should be stored in the directory where you store this notebook. The example file is provided for you on Blackboard. The example has API keys that are _not_ functional, so you'll need to get Twitter credentials and replace the placeholder keys. "
   ]
  },
  {
   "cell_type": "code",
   "execution_count": null,
   "metadata": {
    "id": "f01bdec6"
   },
   "outputs": [],
   "source": [
    "from api_keys import api_key, api_key_secret, bearer_token"
   ]
  },
  {
   "cell_type": "code",
   "execution_count": null,
   "metadata": {
    "id": "d08eb1fd"
   },
   "outputs": [],
   "source": [
    "client = tweepy.Client(bearer_token,wait_on_rate_limit=True)"
   ]
  },
  {
   "cell_type": "markdown",
   "metadata": {
    "id": "6aa67032"
   },
   "source": [
    "# Testing the API\n",
    "\n",
    "The Twitter APIs are quite rich. Let's play around with some of the features before we dive into this section of the assignment. For our testing, it's convenient to have a small data set to play with. We will seed the code with the handle of John Chandler, one of the instructors in this course. His handle is `@37chandler`. Feel free to use a different handle if you would like to look at someone else's data. \n",
    "\n",
    "We will write code to explore a few aspects of the API: \n",
    "\n",
    "1. Pull some of the followers @37chandler.\n",
    "1. Explore response data, which gives us information about Twitter users. \n",
    "1. Pull the last few tweets by @37chandler.\n"
   ]
  },
  {
   "cell_type": "code",
   "execution_count": null,
   "metadata": {
    "id": "76cf6447"
   },
   "outputs": [],
   "source": [
    "handle = \"37chandler\"\n",
    "user_obj = client.get_user(username=handle)\n",
    "\n",
    "followers = client.get_users_followers(\n",
    "    # Learn about user fields here: \n",
    "    # https://developer.twitter.com/en/docs/twitter-api/\n",
    "    #data-dictionary/object-model/user\n",
    "    user_obj.data.id, user_fields=[\"created_at\",\"description\",\"location\",\n",
    "                                   \"public_metrics\"]\n",
    ")\n",
    "\n"
   ]
  },
  {
   "cell_type": "markdown",
   "metadata": {
    "id": "de7892a4"
   },
   "source": [
    "Now let's explore these a bit. We'll start by printing out names, locations, following count, and followers count for these users. "
   ]
  },
  {
   "cell_type": "code",
   "execution_count": null,
   "metadata": {
    "colab": {
     "base_uri": "https://localhost:8080/"
    },
    "id": "c48d6bc9",
    "outputId": "24837d19-b48b-4cf2-a199-bed6ba982b2f"
   },
   "outputs": [],
   "source": [
    "num_to_print = 20\n",
    "\n",
    "for idx, user in enumerate(followers.data) :\n",
    "    following_count = user.public_metrics['following_count']\n",
    "    followers_count = user.public_metrics['followers_count']\n",
    "    \n",
    "    print(f\"{user.name} lists '{user.location}' as their location.\")\n",
    "    print(f\" Following: {following_count}, Followers: {followers_count}.\")\n",
    "    print()\n",
    "    \n",
    "    if idx >= (num_to_print - 1) :\n",
    "        break\n",
    "    "
   ]
  },
  {
   "cell_type": "markdown",
   "metadata": {
    "id": "8bbfe05f"
   },
   "source": [
    "Let's find the person who follows this handle who has the most followers. "
   ]
  },
  {
   "cell_type": "code",
   "execution_count": null,
   "metadata": {
    "colab": {
     "base_uri": "https://localhost:8080/"
    },
    "id": "bda3eec3",
    "outputId": "835fe8b9-d3e1-40ad-bc45-e0618e29cefd"
   },
   "outputs": [],
   "source": [
    "max_followers = 0\n",
    "\n",
    "for idx, user in enumerate(followers.data) :\n",
    "    followers_count = user.public_metrics['followers_count']\n",
    "    \n",
    "    if followers_count > max_followers :\n",
    "        max_followers = followers_count\n",
    "        max_follower_user = user\n",
    "\n",
    "        \n",
    "print(max_follower_user)\n",
    "print(max_follower_user.public_metrics)"
   ]
  },
  {
   "cell_type": "markdown",
   "metadata": {
    "id": "2dad0a3f"
   },
   "source": [
    "Let's pull some more user fields and take a look at them. The fields can be specified in the `user_fields` argument. "
   ]
  },
  {
   "cell_type": "code",
   "execution_count": null,
   "metadata": {
    "id": "0432bbb7"
   },
   "outputs": [],
   "source": [
    "response = client.get_user(id=user_obj.data.id,\n",
    "                          user_fields=[\"created_at\",\"description\",\"location\",\n",
    "                                       \"entities\",\"name\",\"pinned_tweet_id\",\n",
    "                                       \"profile_image_url\",\n",
    "                                       \"verified\",\"public_metrics\"])"
   ]
  },
  {
   "cell_type": "code",
   "execution_count": null,
   "metadata": {
    "colab": {
     "base_uri": "https://localhost:8080/"
    },
    "id": "eb69f9cb",
    "outputId": "a4555729-c5cc-427f-ee67-4b771bb3d4b2"
   },
   "outputs": [],
   "source": [
    "for field, value in response.data.items() :\n",
    "    print(f\"for {field} we have {value}\")"
   ]
  },
  {
   "cell_type": "markdown",
   "metadata": {
    "id": "6abc5dc6"
   },
   "source": [
    "Now a few questions for you about the user object.\n",
    "\n",
    "Q: How many fields are being returned in the `response` object? \n",
    "\n",
    "A: The number of fields being returned in the response object are 9. This is from the user_fields section in the client.get_user function.\n",
    "\n",
    "---\n",
    "\n",
    "Q: Are any of the fields within the user object non-scalar? (I.e., more complicated than a simple data type like integer, float, string, boolean, etc.) \n",
    "\n",
    "A: The time for created_at is non scalar (it might be like, a date time object). Additionally, the image data is a URL. I think that the outputs such as username, 37chandler, or the ¯\\_(ツ)_/¯ are just string data and scalar.  \n",
    "\n",
    "---\n",
    "\n",
    "Q: How many friends, followers, and tweets does this user have? \n",
    "\n",
    "A: The user, John Chandler, has 193 followers and 995 tweets. The user has 589\n",
    "\"friends\" (I think in Slack it was mentioned that the friend count is the \n",
    "same as how many people the user follows). \n"
   ]
  },
  {
   "cell_type": "markdown",
   "metadata": {
    "id": "d8564d2c"
   },
   "source": [
    "Although you won't need it for this assignment, individual tweets can be a rich source of text-based data. To illustrate the concepts, let's look at the last few tweets for this user. You are encouraged to explore the fields that are available about Tweets."
   ]
  },
  {
   "cell_type": "code",
   "execution_count": null,
   "metadata": {
    "colab": {
     "base_uri": "https://localhost:8080/"
    },
    "id": "70b8e93a",
    "outputId": "85f0d16f-97b2-4646-f012-1a2d7f57c998"
   },
   "outputs": [],
   "source": [
    "\n",
    "response = client.get_users_tweets(user_obj.data.id)\n",
    "\n",
    "# By default, only the ID and text fields of each \n",
    "#Tweet will be returned\n",
    "for idx, tweet in enumerate(response.data) :\n",
    "    print(tweet.id)\n",
    "    print(tweet.text)\n",
    "    print()\n",
    "    \n",
    "    if idx > 10 :\n",
    "        break"
   ]
  },
  {
   "cell_type": "markdown",
   "metadata": {
    "id": "66d50726"
   },
   "source": [
    "## Pulling Follower Information\n",
    "\n",
    "In this next section of the assignment, we will pull information about the followers of your two artists. We've seen above how to pull a set of followers using `client.get_users_followers`. This function has a parameter, `max_results`, that we can use to change the number of followers that we pull. Unfortunately, we can only pull 1000 followers at a time, which means we will need to handle the _pagination_ of our results. \n",
    "\n",
    "The return object has the `.data` field, where the results will be found. It also has `.meta`, which we use to select the next \"page\" in the results using the `next_token` result. I will illustrate the ideas using our user from above. \n",
    "\n",
    "\n",
    "### Rate Limiting\n",
    "\n",
    "Twitter limits the rates at which we can pull data, as detailed in [this guide](https://developer.twitter.com/en/docs/twitter-api/rate-limits). We can make 15 user requests per 15 minutes, meaning that we can pull $4 \\cdot 15 \\cdot 1000 = 60000$ users per hour. I illustrate the handling of rate limiting below, though whether or not you hit that part of the code depends on your value of `handle`.  \n",
    "\n",
    "\n",
    "In the below example, I'll pull all the followers, 25 at a time. (We're using 25 to illustrate the idea; when you do this set the value to 1000.) "
   ]
  },
  {
   "cell_type": "code",
   "execution_count": null,
   "metadata": {
    "id": "e5236335"
   },
   "outputs": [],
   "source": [
    "handle_followers = []\n",
    "pulls = 0\n",
    "max_pulls = 1000\n",
    "next_token = None\n",
    "\n",
    "while True :\n",
    "\n",
    "    followers = client.get_users_followers(\n",
    "        user_obj.data.id, \n",
    "        max_results=1000, \n",
    "        # when you do this for real, set this to 1000!\n",
    "        pagination_token = next_token,\n",
    "        user_fields=[\"created_at\",\"description\",\"location\",\n",
    "                     \"entities\",\"name\",\"pinned_tweet_id\",\n",
    "                     \"profile_image_url\",\n",
    "                     \"verified\",\"public_metrics\"]\n",
    "    )\n",
    "    pulls += 1\n",
    "    \n",
    "    for follower in followers.data : \n",
    "        follower_row = (follower.id,follower.name,\n",
    "                        follower.created_at,follower.description)\n",
    "        handle_followers.append(follower_row)\n",
    "    \n",
    "    if 'next_token' in followers.meta and pulls < max_pulls :\n",
    "        next_token = followers.meta['next_token']\n",
    "    else : \n",
    "        break\n",
    "        \n",
    "\n"
   ]
  },
  {
   "cell_type": "markdown",
   "metadata": {
    "id": "9f3ec0e5"
   },
   "source": [
    "## Pulling Twitter Data for Your Artists\n",
    "\n",
    "Now let's take a look at your artists and see how long it is going to take to pull all their followers. "
   ]
  },
  {
   "cell_type": "code",
   "execution_count": null,
   "metadata": {
    "colab": {
     "base_uri": "https://localhost:8080/"
    },
    "id": "6b37383c",
    "outputId": "71678ce0-9ea5-40ab-e65b-0b1a67b16304"
   },
   "outputs": [],
   "source": [
    "artists = dict()\n",
    "\n",
    "for handle in ['DUALIPA','JheneAiko'] : \n",
    "    user_obj = client.get_user(username=handle,user_fields=[\"public_metrics\"])\n",
    "    artists[handle] = (user_obj.data.id, \n",
    "                       handle,\n",
    "                       user_obj.data.public_metrics['followers_count'])\n",
    "    \n",
    "\n",
    "for artist, data in artists.items() : \n",
    "    print(f\"It would take {data[2]/(1000*15*4):.2f} hours to pull all \n",
    "          {data[2]} followers for {artist}. \")\n",
    "    "
   ]
  },
  {
   "cell_type": "markdown",
   "metadata": {
    "id": "dc6ed3f9"
   },
   "source": [
    "Depending on what you see in the display above, you may want to limit how many followers you pull. It'd be great to get at least 200,000 per artist. \n",
    "\n",
    "As we pull data for each artist we will write their data to a folder called \"twitter\", so we will make that folder if needed."
   ]
  },
  {
   "cell_type": "code",
   "execution_count": null,
   "metadata": {
    "id": "e3a32641"
   },
   "outputs": [],
   "source": [
    "# Make the \"twitter\" folder here. If you'd like to practice your programming, add functionality \n",
    "# that checks to see if the folder exists. If it does, then \"unlink\" it. Then create a new one.\n",
    "\n",
    "if not os.path.isdir(\"twitter\") : \n",
    "    #shutil.rmtree(\"twitter/\")\n",
    "    os.mkdir(\"twitter\")"
   ]
  },
  {
   "cell_type": "markdown",
   "metadata": {
    "id": "dd58dd90"
   },
   "source": [
    "In this following cells, build on the above code to pull some of the followers and their data for your two artists. As you pull the data, write the follower ids to a file called `[artist name]_followers.txt` in the \"twitter\" folder. For instance, for Cher I would create a file named `cher_followers.txt`. As you pull the data, also store it in an object like a list or a data frame.\n",
    "\n",
    "In addition to creating a file that only has follower IDs in it, you will create a file that includes user data. From the response object please extract and store the following fields: \n",
    "\n",
    "* screen_name\t\n",
    "* name\t\n",
    "* id\t\n",
    "* location\t\n",
    "* followers_count\t\n",
    "* friends_count\t\n",
    "* description\n",
    "\n",
    "Store the fields with one user per row in a tab-delimited text file with the name `[artist name]_follower_data.txt`. For instance, for Cher I would create a file named `cher_follower_data.txt`. \n",
    "\n",
    "One note: the user's description can have tabs or returns in it, so make sure to clean those out of the description before writing them to the file. I've included some example code to do that below the stub. "
   ]
  },
  {
   "cell_type": "code",
   "execution_count": null,
   "metadata": {
    "id": "ad5d24ae"
   },
   "outputs": [],
   "source": [
    "num_followers_to_pull = 100*1000 # feel free to use this to limit the number of followers you pull."
   ]
  },
  {
   "cell_type": "code",
   "execution_count": null,
   "metadata": {
    "colab": {
     "base_uri": "https://localhost:8080/"
    },
    "id": "0d1b71d3",
    "outputId": "b008b70e-7a44-4f52-e534-e5457ffc64bf"
   },
   "outputs": [],
   "source": [
    "# Modify the below code stub to pull the follower IDs and write them to a file. \n",
    "\n",
    "handles = ['DUALIPA','JheneAiko']\n",
    "\n",
    "whitespace_pattern = re.compile(r\"\\s+\")\n",
    "\n",
    "user_data = dict() \n",
    "followers_data = dict()\n",
    "\n",
    "for handle in handles :\n",
    "    user_data[handle] = [] # will be a list of lists\n",
    "    followers_data[handle] = [] # will be a simple list of IDs\n",
    "\n",
    "# Grabs the time when we start making requests to the API\n",
    "    start_time = datetime.datetime.now()\n",
    "\n",
    "\n",
    "    # Create the output file names \n",
    "    \n",
    "    followers_output_file = handle + \"_followers.txt\"\n",
    "    user_data_output_file = handle + \"_follower_data.txt\"\n",
    "    \n",
    "    print(followers_output_file)\n",
    "    print(user_data_output_file)\n",
    "    # Using tweepy.Paginator (https://docs.tweepy.org/en/latest/v2_pagination.html), \n",
    "    # use `get_users_followers` to pull the follower data requested. \n",
    "    \n",
    "    \n",
    "    #similar code from the above example for get_users_followers\n",
    "  \n",
    "    user_obj = client.get_user(username = handle)\n",
    "    \n",
    "    #Need key-value pair for our dictionary objects\n",
    "    #source: https://realpython.com/python-dicts/\n",
    "    \n",
    "    #for the file that needs follower IDS, append to the key:\n",
    "    #follower_id (so each follower ID will be associated with that one key)\n",
    "    #for the file that needs user IDs, append to specific keys? (TODO) \n",
    "    #user_obj.data.public_metrics['followers_count']; public_metrics\n",
    "    #will give us a string with followers, friends\n",
    "    #screen name: user name (not like the user's actual name): \n",
    "    \n",
    "    followers = client.get_users_followers(\n",
    "    user_obj.data.id, user_fields=[\"created_at\",\"description\",\"location\",\n",
    "                                   \"public_metrics\"]\n",
    "    )\n",
    "    \n",
    "    #check to make sure for loop loops correctly\n",
    "    counter = 0\n",
    "    num_to_print = 5\n",
    "    \n",
    "    for response1 in tweepy.Paginator(client.get_users_followers, user_obj.data.id,  \n",
    "                                      max_results = 1001, limit=100):\n",
    "        \n",
    "        for follower in response1.data : \n",
    "            username = str(follower.username)\n",
    "            name = str(follower.name)\n",
    "            u_id = str(follower.id)\n",
    "            location = str(follower.location)\n",
    "            metrics = str(follower.public_metrics)\n",
    "            u_description = str(follower.description)\n",
    "            #couldn't figure out how to use re.compile here\n",
    "            u_description_updated = u_description.replace(\"\\n\", \"|\")\n",
    "            u_description_updated = u_description.replace(\"\\t\", \"\")\n",
    "            \n",
    "            #Source: https://realpython.com/python-string-split-concatenate-join/\n",
    "            newString = username + ' ' + name + ' ' + u_id + ' ' + location + ' ' + metrics + ' ' +  u_description_updated\n",
    "            user_data[handle].append(newString)\n",
    "            counter = counter + 1\n",
    "            \n",
    "            idString = u_id\n",
    "            followers_data[handle].append(idString)\n",
    "\n",
    "        # If you've pulled num_followers_to_pull, feel free to break out paged twitter API response\n",
    "            \n",
    "        time.sleep(10)\n",
    "\n",
    "        #source for help with storing to a txt file\n",
    "        #https://stackoverflow.com/questions/\n",
    "        #65644479/writing-dictionary-list-values-to-a-text-file\n",
    "        #https://bobbyhadz.com/blog/python-typeerror-write-\n",
    "        #argument-must-be-str-not-list\n",
    "        with open(followers_output_file, \"w\", encoding=\"utf-8\") as f:\n",
    "            f.write(\"\\n\".join(item for item in user_data[handle]))\n",
    "            f.close()\n",
    "            \n",
    "        with open(user_data_output_file, \"w\", encoding=\"utf-8\") as f:\n",
    "            f.write(\"\\n\".join(item for item in followers_data[handle]))\n",
    "            f.close()\n",
    "            \n",
    "        if counter == num_followers_to_pull:\n",
    "            break\n",
    "    \n",
    "    # I recommend writing your results for every response. This isn't the most efficient option\n",
    "    # (since you're opening and closing the file regularly), but it ensures that your \n",
    "    # work is saved in case there is an issue with the API connection. \n",
    "    \n",
    "\n",
    "# Let's see how long it took to grab all follower IDs\n",
    "end_time = datetime.datetime.now()\n",
    "print(end_time - start_time)\n"
   ]
  },
  {
   "cell_type": "code",
   "execution_count": null,
   "metadata": {},
   "outputs": [],
   "source": [
    "followers_data.keys()"
   ]
  },
  {
   "cell_type": "code",
   "execution_count": null,
   "metadata": {
    "colab": {
     "base_uri": "https://localhost:8080/",
     "height": 55
    },
    "id": "2311694f",
    "outputId": "cd68d492-ee63-4615-a449-f5dd27bc191f"
   },
   "outputs": [],
   "source": [
    "tricky_description = \"\"\"\n",
    "    Home by Warsan Shire\n",
    "    \n",
    "    no one leaves home unless\n",
    "    home is the mouth of a shark.\n",
    "    you only run for the border\n",
    "    when you see the whole city\n",
    "    running as well.\n",
    "\n",
    "\"\"\"\n",
    "# This won't work in a tab-delimited text file.\n",
    "\n",
    "clean_description = re.sub(r\"\\s+\",\" \",tricky_description).strip()\n",
    "clean_description"
   ]
  },
  {
   "cell_type": "markdown",
   "metadata": {
    "id": "45c13af3"
   },
   "source": [
    "---\n",
    "\n",
    "# Lyrics Scrape\n",
    "\n",
    "This section asks you to pull data from the Twitter API and scrape www.AZLyrics.com. In the notebooks where you do that work you are asked to store the data in specific ways. "
   ]
  },
  {
   "cell_type": "code",
   "execution_count": 7,
   "metadata": {
    "id": "5bd7df77"
   },
   "outputs": [
    {
     "ename": "AttributeError",
     "evalue": "'NoneType' object has no attribute 'findAll'",
     "output_type": "error",
     "traceback": [
      "\u001b[1;31m---------------------------------------------------------------------------\u001b[0m",
      "\u001b[1;31mAttributeError\u001b[0m                            Traceback (most recent call last)",
      "\u001b[1;32m<ipython-input-7-9fbf8e20729d>\u001b[0m in \u001b[0;36m<module>\u001b[1;34m\u001b[0m\n\u001b[0;32m     16\u001b[0m   \u001b[0mtime\u001b[0m\u001b[1;33m.\u001b[0m\u001b[0msleep\u001b[0m\u001b[1;33m(\u001b[0m\u001b[1;36m5\u001b[0m \u001b[1;33m+\u001b[0m \u001b[1;36m10\u001b[0m\u001b[1;33m*\u001b[0m\u001b[0mrandom\u001b[0m\u001b[1;33m.\u001b[0m\u001b[0mrandom\u001b[0m\u001b[1;33m(\u001b[0m\u001b[1;33m)\u001b[0m\u001b[1;33m)\u001b[0m\u001b[1;33m\u001b[0m\u001b[1;33m\u001b[0m\u001b[0m\n\u001b[0;32m     17\u001b[0m   \u001b[0murl\u001b[0m \u001b[1;33m=\u001b[0m \u001b[1;34m'https://www.azlyrics.com'\u001b[0m\u001b[1;33m\u001b[0m\u001b[1;33m\u001b[0m\u001b[0m\n\u001b[1;32m---> 18\u001b[1;33m   \u001b[0mlyrics_pages\u001b[0m\u001b[1;33m[\u001b[0m\u001b[0martist\u001b[0m\u001b[1;33m]\u001b[0m \u001b[1;33m=\u001b[0m \u001b[1;33m[\u001b[0m\u001b[0murl\u001b[0m\u001b[1;33m+\u001b[0m\u001b[0ma\u001b[0m\u001b[1;33m[\u001b[0m\u001b[1;34m'href'\u001b[0m\u001b[1;33m]\u001b[0m\u001b[1;33m.\u001b[0m\u001b[0mstrip\u001b[0m\u001b[1;33m(\u001b[0m\u001b[1;34m'..'\u001b[0m\u001b[1;33m)\u001b[0m \u001b[1;32mfor\u001b[0m \u001b[0ma\u001b[0m \u001b[1;32min\u001b[0m \u001b[0msoup\u001b[0m\u001b[1;33m.\u001b[0m\u001b[0mfind\u001b[0m\u001b[1;33m(\u001b[0m\u001b[0mid\u001b[0m\u001b[1;33m=\u001b[0m\u001b[1;34m'listAlbum'\u001b[0m\u001b[1;33m)\u001b[0m\u001b[1;33m.\u001b[0m\u001b[0mfindAll\u001b[0m\u001b[1;33m(\u001b[0m\u001b[1;34m'a'\u001b[0m\u001b[1;33m,\u001b[0m \u001b[0mhref\u001b[0m\u001b[1;33m=\u001b[0m\u001b[1;32mTrue\u001b[0m\u001b[1;33m)\u001b[0m\u001b[1;33m]\u001b[0m\u001b[1;33m\u001b[0m\u001b[1;33m\u001b[0m\u001b[0m\n\u001b[0m\u001b[0;32m     19\u001b[0m \u001b[1;33m\u001b[0m\u001b[0m\n",
      "\u001b[1;31mAttributeError\u001b[0m: 'NoneType' object has no attribute 'findAll'"
     ]
    }
   ],
   "source": [
    "#the artists are dua lipa and jhene aiko\n",
    "\n",
    "artists = {'Dua Lipa':\"https://www.azlyrics.com/d/dualipa.html\",\n",
    "          'Jhene':\"https://www.azlyrics.com/j/jhene.html\"} \n",
    "\n",
    "\n",
    "#this is from: https://stackoverflow.com/questions/67992715/how-do-i-scrape-lyrics-from-a-list-of-song-lyric-urls\n",
    "#used this when other attempts broke for some reason\n",
    "lyrics_pages = defaultdict(list)\n",
    "\n",
    "for artist, artist_page in artists.items() :\n",
    "  #request the page and sleep\n",
    "  r = requests.get(artist_page)\n",
    "  soup = BeautifulSoup(r.text, 'lxml')\n",
    "  r.status_code\n",
    "  time.sleep(5 + 10*random.random())\n",
    "  url = 'https://www.azlyrics.com'\n",
    "  lyrics_pages[artist] = [url+a['href'].strip('..') for a in soup.find(id='listAlbum').findAll('a', href=True)]\n",
    "\n"
   ]
  },
  {
   "cell_type": "code",
   "execution_count": null,
   "metadata": {
    "colab": {
     "base_uri": "https://localhost:8080/"
    },
    "id": "ac9d31ec",
    "outputId": "b8f937b3-748e-409c-dda2-1c919e95061d"
   },
   "outputs": [],
   "source": [
    "#Hi! Please ignore this. This code broke (originally had a different issue but now if does not run)\n",
    "#Just keeping this chunk here in case I have time to come back and fix it in the future\n",
    "\n",
    "# Let's set up a dictionary of lists to hold our links\n",
    "#lyrics_pages = defaultdict(list)\n",
    "\n",
    "#counter = 0\n",
    "\n",
    "#for artist, artist_page in artists.items() :\n",
    "    # request the page and sleep\n",
    "#    r = requests.get(artist_page)\n",
    "#    soup = BeautifulSoup(r.text, 'lxml')\n",
    "#    time.sleep(5 + 10*random.random())\n",
    "#    urls = []\n",
    "#    for link in soup.find_all('a'):\n",
    "#        counter = counter +1\n",
    "#        if(\"lyrics/\" + artist) in str(link.get('href')):\n",
    "#            urls.append('https://www.azlyrics.com/' + str(link.get('href')))\n",
    "#        if(counter == 21):\n",
    "#            break\n",
    "#    lyrics_pages[artist].extend(urls)\n",
    "    \n",
    "    #for link2 in soup.find_all('a'):\n",
    "    #    print(link2.get('href'))\n",
    "    #used extend here\n",
    "    #as link: https://stackoverflow.com/questions/\n",
    "    #252703/what-is-the-difference-between-pythons\n",
    "    #-list-methods-append-and-extend\n",
    "    #explains that this extends the list connected \n",
    "    #to the key (prevents additional brackets which causes errors down the line)\n",
    "    #lyrics_pages[artist].extend(urls)\n",
    "    \n",
    "\n",
    "\n"
   ]
  },
  {
   "cell_type": "markdown",
   "metadata": {
    "id": "9c285ec1"
   },
   "source": [
    "Let's make sure we have enough lyrics pages to scrape. "
   ]
  },
  {
   "cell_type": "code",
   "execution_count": null,
   "metadata": {
    "colab": {
     "base_uri": "https://localhost:8080/",
     "height": 194
    },
    "id": "ae4cda68",
    "outputId": "85f7a9f7-b9d0-4100-c61a-a76223ddeddd"
   },
   "outputs": [],
   "source": [
    "#added print(true) because I was not sure of what should have been returning\n",
    "for artist, lp in lyrics_pages.items() :\n",
    "    assert(len(set(lp)) > 20)\n",
    "    print('true')"
   ]
  },
  {
   "cell_type": "code",
   "execution_count": null,
   "metadata": {
    "colab": {
     "base_uri": "https://localhost:8080/"
    },
    "id": "edca10d6",
    "outputId": "bab39eac-6a33-491a-c836-d6f8df691510"
   },
   "outputs": [],
   "source": [
    "# Let's see how long it's going to take to pull these lyrics \n",
    "# if we're waiting `5 + 10*random.random()` seconds \n",
    "\n",
    "for artist, links in lyrics_pages.items() : \n",
    "    print(f\"For {artist} we have {len(links)}.\")\n",
    "    print(f\"The full pull will take for this artist will take {round(len(links)*10/3600,2)} hours.\")"
   ]
  },
  {
   "cell_type": "markdown",
   "metadata": {
    "id": "011be6c6"
   },
   "source": [
    "## Part 2: Pulling Lyrics\n",
    "\n",
    "Now that we have the links to our lyrics pages, let's go scrape them! Here are the steps for this part. \n",
    "\n",
    "1. Create an empty folder in our repo called \"lyrics\". \n",
    "1. Iterate over the artists in `lyrics_pages`. \n",
    "1. Create a subfolder in lyrics with the artist's name. For instance, if the artist was Cher you'd have `lyrics/cher/` in your repo.\n",
    "1. Iterate over the pages. \n",
    "1. Request the page and extract the lyrics from the returned HTML file using BeautifulSoup.\n",
    "1. Use the function below, `generate_filename_from_url`, to create a filename based on the lyrics page, then write the lyrics to a text file with that name. \n"
   ]
  },
  {
   "cell_type": "code",
   "execution_count": null,
   "metadata": {
    "id": "67693711"
   },
   "outputs": [],
   "source": [
    "def generate_filename_from_link(link) :\n",
    "    \n",
    "    if not link :\n",
    "        return None\n",
    "    \n",
    "    # drop the http or https and the html\n",
    "    name = link.replace(\"https\",\"\").replace(\"http\",\"\")\n",
    "    name = link.replace(\".html\",\"\")\n",
    "\n",
    "    name = name.replace(\"/lyrics/\",\"\")\n",
    "    \n",
    "    # Replace useless chareacters with UNDERSCORE\n",
    "    name = name.replace(\"://\",\"\").replace(\".\",\"_\").replace(\"/\",\"_\")\n",
    "    \n",
    "    # tack on .txt\n",
    "    name = name + \".txt\"\n",
    "    \n",
    "    return(name)\n"
   ]
  },
  {
   "cell_type": "code",
   "execution_count": null,
   "metadata": {
    "id": "94a78c78"
   },
   "outputs": [],
   "source": [
    "# Make the lyrics folder here. \n",
    "#If you'd like to practice your programming, \n",
    "#add functionality \n",
    "# that checks to see if the folder exists. \n",
    "#If it does, then use shutil.rmtree to remove it and create a new one.\n",
    "\n",
    "if os.path.isdir(\"lyrics\") : \n",
    "    shutil.rmtree(\"lyrics/\")\n",
    "\n",
    "os.mkdir(\"lyrics\")"
   ]
  },
  {
   "cell_type": "code",
   "execution_count": null,
   "metadata": {
    "id": "d655b687"
   },
   "outputs": [],
   "source": [
    "url_stub = \"https://www.azlyrics.com\" \n",
    "start = time.time()\n",
    "\n",
    "for artist in lyrics_pages:\n",
    "\n",
    "    # Use this space to carry out the following steps: \n",
    "    \n",
    "    # 1. Build a subfolder for the artist\n",
    "    \n",
    "    #source: https://stackoverflow.com/\n",
    "    #questions/35950556/python-create-folder-with-multiple-subfolders   \n",
    "    directory = artist\n",
    "    artist_dir = os.path.join('C:/Users/munip/Downloads/lyrics/', directory)\n",
    "    #similar code to make folder from above code chunk where lyrics folder is made\n",
    "    os.mkdir(artist_dir)\n",
    "    \n",
    "        \n",
    "    # 2. Iterate over the lyrics pages\n",
    "    #for value, artist in lyrics_pages.items() :\n",
    "        # request the page and sleep\n",
    "    #starting count out here so that it resets to zero for second artist\n",
    "    total_pages = 0 \n",
    "\n",
    "            \n",
    "    # 3. Request the lyrics page. \n",
    "    # Don't forget to add a line like `time.sleep(5 + 10*random.random())`\n",
    "    # to sleep after making the request\n",
    "    \n",
    "    #for artist, links in lyrics_pages.items() : \n",
    "    #    print(f{artist} we have {len(links)}.\")\n",
    "    #    print(f\"The full pull will take for this artist will take {round(len(links)*10/3600,2)} hours.\")\n",
    "    #    r = requests.get(links)\n",
    "\n",
    "    #source for below code for scraping lyrics:\n",
    "    #https://stackoverflow.com/questions/67992715/\n",
    "    #how-do-i-scrape-lyrics-from-a-list-of-song-lyric-urls \n",
    "    #source for extracting \n",
    "    #titles: https://stackoverflow.com/\n",
    "    #questions/2792650/import-error-no-module-name-urllib2\n",
    "    #and https://stackoverflow.com/questions/51233/how-can-\n",
    "    #i-retrieve-the-page-title-of-a-webpage-using-python\n",
    "    \n",
    "    #for saving the lyrics and title on the same line, \n",
    "    #and then saving it to specific folder, the following \n",
    "    #links were used:\n",
    "    #https://stackoverflow.com/questions/8691311/how-\n",
    "    #to-write-multiple-strings-in-one-line\n",
    "    # and https://www.adamsmith.haus/python/answers\n",
    "    #/how-to-write-a-file-to-a-specific-directory-in-python\n",
    "    for link in lyrics_pages[artist]:\n",
    "        r = requests.get(link)\n",
    "        time.sleep(5 + 10*random.random())\n",
    "        song_name = generate_filename_from_link(link)\n",
    "        soup = BeautifulSoup(r.content, \"lxml\")\n",
    "        lyrics = soup.select_one(\".ringtone ~ div\").get_text(strip=True, separator=\"\\n\")\n",
    "        # 4. Extract the title and lyrics from the page.\n",
    "        title2 = BeautifulSoup(urlopen(link))\n",
    "        final_title = title2.title.string\n",
    "        # 5. Write out the title, two returns ('\\n'), and the lyrics.\n",
    "        #Use `generate_filename_from_url`\n",
    "        #to generate the filename. \n",
    "        completeName = os.path.join(artist_dir, song_name)\n",
    "        file1 = open(completeName, \"w\")\n",
    "        file1.write(final_title + '\\n' + '\\n' + lyrics)\n",
    "        file1.close()\n",
    "\n",
    "\n",
    "        total_pages = total_pages + 1\n",
    "\n",
    "        if(total_pages == 20):\n",
    "            break\n",
    "\n",
    "\n",
    "    \n",
    "    # Remember to pull at least 20 songs per artist. It may be fun to pull all the songs for the artist\n",
    "    \n",
    "        "
   ]
  },
  {
   "cell_type": "code",
   "execution_count": null,
   "metadata": {
    "id": "36c394f1"
   },
   "outputs": [],
   "source": [
    "print(f\"Total run time was {round((time.time() - start)/3600,2)} hours.\")"
   ]
  },
  {
   "cell_type": "markdown",
   "metadata": {
    "id": "054cf14b"
   },
   "source": [
    "---\n",
    "\n",
    "# Evaluation\n",
    "\n",
    "This assignment asks you to pull data from the Twitter API and scrape www.AZLyrics.com.  After you have finished the above sections , run all the cells in this notebook. Print this to PDF and submit it, per the instructions."
   ]
  },
  {
   "cell_type": "code",
   "execution_count": null,
   "metadata": {
    "id": "217c2b0a"
   },
   "outputs": [],
   "source": [
    "# Simple word extractor from Peter Norvig: https://norvig.com/spell-correct.html\n",
    "def words(text): \n",
    "    return re.findall(r'\\w+', text.lower())"
   ]
  },
  {
   "cell_type": "markdown",
   "metadata": {
    "id": "9290b4c3"
   },
   "source": [
    "---\n",
    "\n",
    "## Checking Twitter Data\n",
    "\n",
    "The output from your Twitter API pull should be two files per artist, stored in files with formats like `cher_followers.txt` (a list of all follower IDs you pulled) and `cher_followers_data.txt`. These files should be in a folder named `twitter` within the repository directory. This code summarizes the information at a high level to help the instructor evaluate your work. "
   ]
  },
  {
   "cell_type": "code",
   "execution_count": null,
   "metadata": {
    "id": "d2174c46"
   },
   "outputs": [],
   "source": [
    "twitter_files = os.listdir(\"twitter\")\n",
    "twitter_files = [f for f in twitter_files if f != \".DS_Store\"]\n",
    "artist_handles = list(set([name.split(\"_\")[0] for name in twitter_files]))\n",
    "\n",
    "print(f\"We see two artist handles: {artist_handles[0]} and {artist_handles[1]}.\")"
   ]
  },
  {
   "cell_type": "code",
   "execution_count": null,
   "metadata": {
    "id": "7ad545be"
   },
   "outputs": [],
   "source": [
    "for artist in artist_handles :\n",
    "    follower_file = artist + \"_followers.txt\"\n",
    "    follower_data_file = artist + \"_followers_data.txt\"\n",
    "    \n",
    "    ids = open(\"twitter/\" + follower_file,'r').readlines()\n",
    "    \n",
    "    print(f\"We see {len(ids)-1} in your follower file for {artist}, assuming a header row.\")\n",
    "    \n",
    "    with open(\"twitter/\" + follower_data_file,'r') as infile :\n",
    "        \n",
    "        # check the headers\n",
    "        headers = infile.readline().split(\"\\t\")\n",
    "        \n",
    "        print(f\"In the follower data file ({follower_data_file}) for {artist}, we have these columns:\")\n",
    "        print(\" : \".join(headers))\n",
    "        \n",
    "        description_words = []\n",
    "        locations = set()\n",
    "        \n",
    "        \n",
    "        for idx, line in enumerate(infile.readlines()) :\n",
    "            line = line.strip(\"\\n\").split(\"\\t\")\n",
    "            \n",
    "            try : \n",
    "                locations.add(line[3])            \n",
    "                description_words.extend((line[6]))\n",
    "            except :\n",
    "                pass\n",
    "    \n",
    "        \n",
    "\n",
    "        print(f\"We have {idx+1} data rows for {artist} in the follower data file.\")\n",
    "\n",
    "        print(f\"For {artist} we have {len(locations)} unique locations.\")\n",
    "\n",
    "        print(f\"For {artist} we have {len(description_words)} words in the descriptions.\")\n",
    "        print(\"Here are the five most common words:\")\n",
    "        print(Counter(description_words).most_common(5))\n",
    "\n",
    "        \n",
    "        print(\"\")\n",
    "        print(\"-\"*40)\n",
    "        print(\"\")\n",
    "    "
   ]
  },
  {
   "cell_type": "markdown",
   "metadata": {
    "id": "37778a1c"
   },
   "source": [
    "## Checking Lyrics \n",
    "\n",
    "The output from your lyrics scrape should be stored in files located in this path from the directory:\n",
    "`/lyrics/[Artist Name]/[filename from URL]`. This code summarizes the information at a high level to help the instructor evaluate your work. "
   ]
  },
  {
   "cell_type": "code",
   "execution_count": null,
   "metadata": {
    "id": "bccac29c"
   },
   "outputs": [],
   "source": [
    "artist_folders = os.listdir(\"lyrics/\")\n",
    "artist_folders = [f for f in artist_folders if os.path.isdir(\"lyrics/\" + f)]\n",
    "\n",
    "for artist in artist_folders : \n",
    "    artist_files = os.listdir(\"lyrics/\" + artist)\n",
    "    artist_files = [f for f in artist_files if 'txt' in f or 'csv' in f or 'tsv' in f]\n",
    "\n",
    "    print(f\"For {artist} we have {len(artist_files)} files.\")\n",
    "\n",
    "    artist_words = []\n",
    "\n",
    "    for f_name in artist_files : \n",
    "        with open(\"lyrics/\" + artist + \"/\" + f_name) as infile : \n",
    "            artist_words.extend(words(infile.read()))\n",
    "\n",
    "            \n",
    "    print(f\"For {artist} we have roughly {len(artist_words)} words, {len(set(artist_words))} are unique.\")\n"
   ]
  }
 ],
 "metadata": {
  "colab": {
   "collapsed_sections": [],
   "provenance": []
  },
  "kernelspec": {
   "display_name": "Python 3",
   "language": "python",
   "name": "python3"
  },
  "language_info": {
   "codemirror_mode": {
    "name": "ipython",
    "version": 3
   },
   "file_extension": ".py",
   "mimetype": "text/x-python",
   "name": "python",
   "nbconvert_exporter": "python",
   "pygments_lexer": "ipython3",
   "version": "3.8.5"
  }
 },
 "nbformat": 4,
 "nbformat_minor": 5
}
